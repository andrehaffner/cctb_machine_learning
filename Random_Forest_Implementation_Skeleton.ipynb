{
  "nbformat": 4,
  "nbformat_minor": 0,
  "metadata": {
    "colab": {
      "provenance": []
    },
    "kernelspec": {
      "name": "python3",
      "display_name": "Python 3"
    },
    "language_info": {
      "name": "python"
    }
  },
  "cells": [
    {
      "cell_type": "code",
      "execution_count": null,
      "metadata": {
        "id": "Gx6FNB3L8iux"
      },
      "outputs": [],
      "source": [
        "import numpy as np\n",
        "from scipy import stats\n",
        "\n",
        "class RandomForest:\n",
        "    def __init__(self, n_trees, max_features='sqrt'):\n",
        "        pass\n",
        "\n",
        "    def _bootstrap_sample(self, X, y):\n",
        "        pass\n",
        "\n",
        "    def fit(self, X, y):\n",
        "        pass\n",
        "\n",
        "    def predict(self, X):\n",
        "        pass\n"
      ]
    }
  ]
}