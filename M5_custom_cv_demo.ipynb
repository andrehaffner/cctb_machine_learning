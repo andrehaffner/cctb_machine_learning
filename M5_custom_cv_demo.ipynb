{
  "nbformat": 4,
  "nbformat_minor": 0,
  "metadata": {
    "colab": {
      "provenance": []
    },
    "kernelspec": {
      "name": "python3",
      "display_name": "Python 3"
    },
    "language_info": {
      "name": "python"
    }
  },
  "cells": [
    {
      "cell_type": "code",
      "source": [
        "import numpy as np\n",
        "\n",
        "class CustomCrossValidation:\n",
        "    def __init__(self, n_splits=5):\n",
        "        self.n_splits = n_splits\n",
        "\n",
        "    def split(self, X):\n",
        "        n_samples = len(X)\n",
        "        indices = np.arange(n_samples)\n",
        "        fold_size = n_samples // self.n_splits\n",
        "\n",
        "        for fold in range(self.n_splits):\n",
        "            start = fold * fold_size\n",
        "            end = (fold + 1) * fold_size\n",
        "\n",
        "            test_indices = indices[start:end]\n",
        "            train_indices = np.concatenate((indices[:start], indices[end:]))\n",
        "\n",
        "            yield train_indices, test_indices"
      ],
      "metadata": {
        "id": "d-hK_y2xaMYQ"
      },
      "execution_count": 1,
      "outputs": []
    },
    {
      "cell_type": "code",
      "source": [
        "from sklearn.datasets import load_iris\n",
        "from sklearn.tree import DecisionTreeClassifier\n",
        "from sklearn.model_selection import cross_val_score\n",
        "\n",
        "# Load example dataset\n",
        "X, y = load_iris(return_X_y=True)\n",
        "\n",
        "# Create an instance of the custom cross-validation class\n",
        "custom_cv = CustomCrossValidation(n_splits=5)\n",
        "\n",
        "# Create a decision tree classifier\n",
        "model = DecisionTreeClassifier()\n",
        "\n",
        "# Perform cross-validation using the custom cross-validation class\n",
        "scores = cross_val_score(model, X, y, cv=custom_cv.split(X))\n",
        "\n",
        "# Print the scores for each fold\n",
        "print(\"Cross-Validation Scores:\", scores)\n"
      ],
      "metadata": {
        "colab": {
          "base_uri": "https://localhost:8080/"
        },
        "id": "eUHbIiudbvoD",
        "outputId": "1b893d66-5a25-4bfb-d6d0-a74e504ae972"
      },
      "execution_count": 3,
      "outputs": [
        {
          "output_type": "stream",
          "name": "stdout",
          "text": [
            "Cross-Validation Scores: [1.         0.96666667 0.86666667 0.93333333 0.8       ]\n"
          ]
        }
      ]
    }
  ]
}