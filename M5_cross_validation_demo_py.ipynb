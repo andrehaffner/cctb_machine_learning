{
  "cells": [
    {
      "cell_type": "markdown",
      "metadata": {
        "id": "WAqVXocvL1f7"
      },
      "source": [
        "### Imports"
      ]
    },
    {
      "cell_type": "code",
      "execution_count": 1,
      "metadata": {
        "id": "O0StTcT-L1f9"
      },
      "outputs": [],
      "source": [
        "import numpy as np\n",
        "import pandas as pd\n",
        "import matplotlib.pyplot as plt\n",
        "from sklearn.datasets import load_iris\n",
        "from sklearn.model_selection import train_test_split\n",
        "from sklearn.neighbors import KNeighborsClassifier\n",
        "from sklearn.model_selection import KFold\n",
        "%matplotlib inline"
      ]
    },
    {
      "cell_type": "markdown",
      "metadata": {
        "id": "R_2fXRTAL1f-"
      },
      "source": [
        "### Load Iris Data"
      ]
    },
    {
      "cell_type": "code",
      "execution_count": 2,
      "metadata": {
        "id": "Lie1UbbAL1f-"
      },
      "outputs": [],
      "source": [
        "iris = load_iris()\n",
        "X = iris.data\n",
        "y = iris.target"
      ]
    },
    {
      "cell_type": "markdown",
      "metadata": {
        "id": "Pg3daW7lL1f-"
      },
      "source": [
        "### Display Data"
      ]
    },
    {
      "cell_type": "code",
      "execution_count": 3,
      "metadata": {
        "colab": {
          "base_uri": "https://localhost:8080/"
        },
        "id": "mgwov5aNL1f-",
        "outputId": "3c629fc9-2a45-4f66-b10a-8cb21510b0dd"
      },
      "outputs": [
        {
          "output_type": "execute_result",
          "data": {
            "text/plain": [
              "(150, 4)"
            ]
          },
          "metadata": {},
          "execution_count": 3
        }
      ],
      "source": [
        "X.shape"
      ]
    },
    {
      "cell_type": "code",
      "execution_count": 4,
      "metadata": {
        "colab": {
          "base_uri": "https://localhost:8080/"
        },
        "id": "kcxQWJkEL1f_",
        "outputId": "1e2a7d4b-07c2-4175-f512-394236cc065e"
      },
      "outputs": [
        {
          "output_type": "execute_result",
          "data": {
            "text/plain": [
              "array([[5.1, 3.5, 1.4, 0.2],\n",
              "       [4.9, 3. , 1.4, 0.2],\n",
              "       [4.7, 3.2, 1.3, 0.2]])"
            ]
          },
          "metadata": {},
          "execution_count": 4
        }
      ],
      "source": [
        "X[:3]"
      ]
    },
    {
      "cell_type": "code",
      "execution_count": 5,
      "metadata": {
        "colab": {
          "base_uri": "https://localhost:8080/"
        },
        "id": "AVSI0LSRL1f_",
        "outputId": "31833d92-8b51-4135-d509-c74505bed539"
      },
      "outputs": [
        {
          "output_type": "execute_result",
          "data": {
            "text/plain": [
              "array([0, 0, 0, 0, 0, 0, 0, 0, 0, 0, 0, 0, 0, 0, 0, 0, 0, 0, 0, 0, 0, 0,\n",
              "       0, 0, 0, 0, 0, 0, 0, 0, 0, 0, 0, 0, 0, 0, 0, 0, 0, 0, 0, 0, 0, 0,\n",
              "       0, 0, 0, 0, 0, 0, 1, 1, 1, 1, 1, 1, 1, 1, 1, 1, 1, 1, 1, 1, 1, 1,\n",
              "       1, 1, 1, 1, 1, 1, 1, 1, 1, 1, 1, 1, 1, 1, 1, 1, 1, 1, 1, 1, 1, 1,\n",
              "       1, 1, 1, 1, 1, 1, 1, 1, 1, 1, 1, 1, 2, 2, 2, 2, 2, 2, 2, 2, 2, 2,\n",
              "       2, 2, 2, 2, 2, 2, 2, 2, 2, 2, 2, 2, 2, 2, 2, 2, 2, 2, 2, 2, 2, 2,\n",
              "       2, 2, 2, 2, 2, 2, 2, 2, 2, 2, 2, 2, 2, 2, 2, 2, 2, 2])"
            ]
          },
          "metadata": {},
          "execution_count": 5
        }
      ],
      "source": [
        "y"
      ]
    },
    {
      "cell_type": "markdown",
      "metadata": {
        "id": "hiuJbthhL1f_"
      },
      "source": [
        "### Split Data\n",
        "\n",
        "Below, we are splitting the data into a train and test or holdout set. Only use the test set to evaluate your final model."
      ]
    },
    {
      "cell_type": "code",
      "execution_count": 6,
      "metadata": {
        "id": "IAODYJzVL1f_"
      },
      "outputs": [],
      "source": [
        "X_train, X_test, y_train, y_test = train_test_split(X, y, shuffle=True, test_size=0.33, random_state=42, stratify=y)"
      ]
    },
    {
      "cell_type": "markdown",
      "metadata": {
        "id": "B_D9tgjzL1f_"
      },
      "source": [
        "### Verifying Class Percentages\n",
        "\n",
        "Notice that the percentage of class 0, 1, 2 are the same in the original datset as in the split set."
      ]
    },
    {
      "cell_type": "code",
      "execution_count": 7,
      "metadata": {
        "colab": {
          "base_uri": "https://localhost:8080/"
        },
        "id": "MQXjHFgaL1f_",
        "outputId": "4d2a38c5-6173-4e52-a297-2dbf0cd97096"
      },
      "outputs": [
        {
          "output_type": "execute_result",
          "data": {
            "text/plain": [
              "0    0.333333\n",
              "1    0.333333\n",
              "2    0.333333\n",
              "dtype: float64"
            ]
          },
          "metadata": {},
          "execution_count": 7
        }
      ],
      "source": [
        "pd.Series(y).value_counts() / y.shape[0]"
      ]
    },
    {
      "cell_type": "code",
      "execution_count": 8,
      "metadata": {
        "colab": {
          "base_uri": "https://localhost:8080/"
        },
        "id": "dhO2uLN5L1f_",
        "outputId": "d767e0fa-ecfc-4403-8741-4299e9e975c2"
      },
      "outputs": [
        {
          "output_type": "execute_result",
          "data": {
            "text/plain": [
              "0    0.34\n",
              "2    0.33\n",
              "1    0.33\n",
              "dtype: float64"
            ]
          },
          "metadata": {},
          "execution_count": 8
        }
      ],
      "source": [
        "pd.Series(y_train).value_counts() / y_train.shape[0]"
      ]
    },
    {
      "cell_type": "markdown",
      "metadata": {
        "id": "KwFvYRLtL1gA"
      },
      "source": [
        "### KFold\n",
        "\n",
        "Here, we are building 3 KNN models\n",
        "\n",
        "- a model with k=3\n",
        "- a model with k=11\n",
        "- a model with k=21\n",
        "\n",
        "Each model is trained 5 times. The training happens on 4 subsets and evaluation happens on the 5th subset. We then take the average of all 5 runs and average them into a single value. This value represents the mean accuracy of the KNN at a particular \"k\" value."
      ]
    },
    {
      "cell_type": "code",
      "execution_count": 9,
      "metadata": {
        "colab": {
          "base_uri": "https://localhost:8080/"
        },
        "id": "MuvfAjM4L1gA",
        "outputId": "51732180-2ae2-4fa6-e08c-fe968c821645"
      },
      "outputs": [
        {
          "output_type": "stream",
          "name": "stdout",
          "text": [
            "[0.93 0.96 0.93]\n"
          ]
        }
      ],
      "source": [
        "kf = KFold(n_splits=5)\n",
        "scores = np.zeros(3)\n",
        "params = [3, 11, 21]\n",
        "for i, k in enumerate(params):\n",
        "    knn = KNeighborsClassifier(n_neighbors=k)\n",
        "    temp = np.zeros(5)\n",
        "    for j, (train_index, val_index) in enumerate(kf.split(X_train)):\n",
        "        X_tr = X_train[train_index]\n",
        "        y_tr = y_train[train_index]\n",
        "        X_vl = X_train[val_index]\n",
        "        y_vl = y_train[val_index]\n",
        "    \n",
        "        knn.fit(X_tr, y_tr)\n",
        "        accuracy = knn.score(X_vl, y_vl)\n",
        "        temp[j] = accuracy\n",
        "        \n",
        "    scores[i] = temp.mean()\n",
        "print(scores)"
      ]
    },
    {
      "cell_type": "markdown",
      "metadata": {
        "id": "ppY4Exu4L1gA"
      },
      "source": [
        "### Choosing the best hyperparameter\n",
        "\n",
        "Now that we have 3 average accuracy scores, we can find the hyperparameter that performed the best, i.e., had the highest accuracy."
      ]
    },
    {
      "cell_type": "code",
      "execution_count": 10,
      "metadata": {
        "colab": {
          "base_uri": "https://localhost:8080/"
        },
        "id": "QRM4KLSsL1gA",
        "outputId": "6ced362b-f487-496b-8b83-efe80dfc9fad"
      },
      "outputs": [
        {
          "output_type": "execute_result",
          "data": {
            "text/plain": [
              "11"
            ]
          },
          "metadata": {},
          "execution_count": 10
        }
      ],
      "source": [
        "best = params[scores.argmax()]; best"
      ]
    },
    {
      "cell_type": "markdown",
      "metadata": {
        "id": "jway4OnvL1gA"
      },
      "source": [
        "### Final Model\n",
        "\n",
        "We now have the best hyperparameter. So we build the final model on all the training data and evaluate it on the test or holdout set to see how the model performs on data it has never seen."
      ]
    },
    {
      "cell_type": "code",
      "execution_count": 11,
      "metadata": {
        "colab": {
          "base_uri": "https://localhost:8080/"
        },
        "id": "Fbro5jtWL1gA",
        "outputId": "79edf738-f753-4b13-aa6e-3abd49dc491e"
      },
      "outputs": [
        {
          "output_type": "execute_result",
          "data": {
            "text/plain": [
              "0.96"
            ]
          },
          "metadata": {},
          "execution_count": 11
        }
      ],
      "source": [
        "final = KNeighborsClassifier(n_neighbors=best).fit(X_train, y_train)\n",
        "final.score(X_test, y_test)"
      ]
    },
    {
      "source": [
        "## More than one hyperparameter? Try `GridSearchCV`\n",
        "https://scikit-learn.org/stable/modules/generated/sklearn.model_selection.GridSearchCV.html\n"
      ],
      "cell_type": "markdown",
      "metadata": {
        "id": "2gtb1SLTL1gA"
      }
    },
    {
      "cell_type": "code",
      "execution_count": 12,
      "metadata": {
        "colab": {
          "base_uri": "https://localhost:8080/"
        },
        "id": "vKrtqMyrL1gA",
        "outputId": "eabe7b3b-7ae0-484b-b6c0-2eb8f8ca07c8"
      },
      "outputs": [
        {
          "output_type": "execute_result",
          "data": {
            "text/plain": [
              "['mean_fit_time',\n",
              " 'mean_score_time',\n",
              " 'mean_test_score',\n",
              " 'param_C',\n",
              " 'param_kernel',\n",
              " 'params',\n",
              " 'rank_test_score',\n",
              " 'split0_test_score',\n",
              " 'split1_test_score',\n",
              " 'split2_test_score',\n",
              " 'split3_test_score',\n",
              " 'split4_test_score',\n",
              " 'std_fit_time',\n",
              " 'std_score_time',\n",
              " 'std_test_score']"
            ]
          },
          "metadata": {},
          "execution_count": 12
        }
      ],
      "source": [
        "from sklearn import svm, datasets\n",
        "from sklearn.model_selection import GridSearchCV\n",
        "iris = datasets.load_iris()\n",
        "parameters = {'kernel':('linear', 'rbf'), 'C':[1, 10]}\n",
        "svc = svm.SVC()\n",
        "clf = GridSearchCV(svc, parameters)\n",
        "clf.fit(iris.data, iris.target)\n",
        "sorted(clf.cv_results_.keys())"
      ]
    }
  ],
  "metadata": {
    "kernelspec": {
      "display_name": "Python 3",
      "language": "python",
      "name": "python3"
    },
    "language_info": {
      "codemirror_mode": {
        "name": "ipython",
        "version": 3
      },
      "file_extension": ".py",
      "mimetype": "text/x-python",
      "name": "python",
      "nbconvert_exporter": "python",
      "pygments_lexer": "ipython3",
      "version": "3.7.6-final"
    },
    "colab": {
      "provenance": []
    }
  },
  "nbformat": 4,
  "nbformat_minor": 0
}